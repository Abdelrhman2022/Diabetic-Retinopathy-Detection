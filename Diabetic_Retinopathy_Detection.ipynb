{
  "nbformat": 4,
  "nbformat_minor": 0,
  "metadata": {
    "kernelspec": {
      "display_name": "Python 3",
      "language": "python",
      "name": "python3"
    },
    "language_info": {
      "codemirror_mode": {
        "name": "ipython",
        "version": 3
      },
      "file_extension": ".py",
      "mimetype": "text/x-python",
      "name": "python",
      "nbconvert_exporter": "python",
      "pygments_lexer": "ipython3",
      "version": "3.8.5"
    },
    "colab": {
      "name": "Copy of Diabetic Retinopathy Detection.ipynb",
      "provenance": [],
      "collapsed_sections": []
    },
    "accelerator": "TPU"
  },
  "cells": [
    {
      "cell_type": "code",
      "metadata": {
        "_uuid": "812221f6046eb6002d9835e040d8d50675c4718e",
        "id": "8GLhsIAjkwA7"
      },
      "source": [
        "%matplotlib inline"
      ],
      "execution_count": null,
      "outputs": []
    },
    {
      "cell_type": "code",
      "metadata": {
        "colab": {
          "base_uri": "https://localhost:8080/"
        },
        "id": "4dBzR2w0v6Bn",
        "outputId": "42aba1b0-cad3-4857-e539-53b7d6a77a6a"
      },
      "source": [
        "from google.colab import drive\n",
        "drive.mount('/content/drive')"
      ],
      "execution_count": null,
      "outputs": [
        {
          "output_type": "stream",
          "name": "stdout",
          "text": [
            "Mounted at /content/drive\n"
          ]
        }
      ]
    },
    {
      "cell_type": "code",
      "metadata": {
        "_cell_guid": "b1076dfc-b9ad-4769-8c92-a6c4dae69d19",
        "_kg_hide-input": false,
        "_kg_hide-output": false,
        "_uuid": "8f2839f25d086af736a60e9eeb907d3b93b6e0e5",
        "id": "FGbwX3qIkwBE"
      },
      "source": [
        "# Imports\n",
        "import numpy as np\n",
        "import pandas as pd \n",
        "import warnings \n",
        "from glob import glob \n",
        "from skimage.io import imread\n",
        "import os\n",
        "import shutil\n",
        "import matplotlib.pyplot as plt\n",
        "import matplotlib.image as mpimg\n",
        "from sklearn.metrics import roc_curve, auc, roc_auc_score\n",
        "from sklearn.model_selection import train_test_split\n",
        "import keras\n",
        "from keras.preprocessing.image import ImageDataGenerator\n",
        "import keras.preprocessing.image\n",
        "from keras.applications.nasnet import NASNetMobile\n",
        "from keras.applications.xception import Xception\n",
        "from keras.utils.vis_utils import plot_model\n",
        "from keras.layers import Dropout, Flatten, Dense, GlobalAveragePooling2D, Average, Input, Concatenate, GlobalMaxPooling2D,Conv2D\n",
        "from keras.models import Model\n",
        "from keras.callbacks import CSVLogger, ModelCheckpoint\n",
        "from tensorflow.python.keras.optimizers import *\n",
        "import tensorflow as tf\n",
        "\n"
      ],
      "execution_count": null,
      "outputs": []
    },
    {
      "cell_type": "code",
      "metadata": {
        "id": "E5Q25R-jCxYI"
      },
      "source": [
        "import tensorflow as tf\n",
        "\n",
        "from tensorflow.keras.optimizers import Adam "
      ],
      "execution_count": null,
      "outputs": []
    },
    {
      "cell_type": "code",
      "metadata": {
        "id": "zIxIrH-IkwBG"
      },
      "source": [
        "warnings.filterwarnings('ignore')\n",
        "IMAGE_SIZE = (128, 128)\n",
        "INPUT_SHAPE = (128, 128, 3)\n",
        "TRAINING_RATE = 0.0001"
      ],
      "execution_count": null,
      "outputs": []
    },
    {
      "cell_type": "code",
      "metadata": {
        "colab": {
          "base_uri": "https://localhost:8080/"
        },
        "id": "hmczZfeqkwBH",
        "outputId": "2fe6e492-e7b6-4b89-a2e8-cc1842f984d5"
      },
      "source": [
        "#read the train and test dataset\n",
        "train_datagen = ImageDataGenerator()\n",
        "test_datagen = ImageDataGenerator()\n",
        "\n",
        "training_set = train_datagen.flow_from_directory(\n",
        "            '/content/drive/MyDrive/data/training',\n",
        "            target_size = IMAGE_SIZE,\n",
        "            class_mode = 'categorical',\n",
        "            batch_size = 32)\n",
        "\n",
        "testing_set = test_datagen.flow_from_directory(\n",
        "            '/content/drive/MyDrive/data/validation',\n",
        "            target_size = IMAGE_SIZE,\n",
        "            class_mode = 'categorical',\n",
        "            batch_size = 32)\n",
        "\n",
        "classes = {v: k for k, v in training_set.class_indices.items()}\n",
        "classes"
      ],
      "execution_count": null,
      "outputs": [
        {
          "output_type": "stream",
          "name": "stdout",
          "text": [
            "Found 1659 images belonging to 5 classes.\n",
            "Found 550 images belonging to 5 classes.\n"
          ]
        },
        {
          "output_type": "execute_result",
          "data": {
            "text/plain": [
              "{0: '0', 1: '1', 2: '2', 3: '3', 4: '4'}"
            ]
          },
          "metadata": {},
          "execution_count": 5
        }
      ]
    },
    {
      "cell_type": "code",
      "metadata": {
        "id": "q6VmSbn2kwBJ",
        "colab": {
          "base_uri": "https://localhost:8080/"
        },
        "outputId": "1b2cb6b6-5c86-4990-8471-d6b040a9b806"
      },
      "source": [
        "#Model\n",
        "input_shape = INPUT_SHAPE\n",
        "inputs = Input(input_shape)\n",
        "input_tensor = Input(shape= (128,128,3))\n",
        "xception = Xception(include_top=False, input_shape = input_shape)(inputs)\n",
        "nas_net = NASNetMobile(input_tensor = input_tensor, include_top = False, weights = 'imagenet')(inputs)\n",
        "\n",
        "#output\n",
        "outputs = Concatenate(axis=-1)([GlobalAveragePooling2D()(xception), GlobalAveragePooling2D()(nas_net)])\n",
        "outputs = Dropout(0.5)(outputs)\n",
        "outputs = Dense(len(classes), activation='softmax')(outputs)\n",
        "\n",
        "# Set Optimizer\n",
        "opt = Adam(lr=0.0001)\n",
        "\n",
        "model = Model(inputs, outputs)\n",
        "model.compile(optimizer=opt,\n",
        "              loss='categorical_crossentropy',\n",
        "              metrics=['accuracy'])\n",
        "\n",
        "model.summary()"
      ],
      "execution_count": null,
      "outputs": [
        {
          "output_type": "stream",
          "name": "stdout",
          "text": [
            "Model: \"model\"\n",
            "__________________________________________________________________________________________________\n",
            "Layer (type)                    Output Shape         Param #     Connected to                     \n",
            "==================================================================================================\n",
            "input_1 (InputLayer)            [(None, 128, 128, 3) 0                                            \n",
            "__________________________________________________________________________________________________\n",
            "xception (Functional)           (None, 4, 4, 2048)   20861480    input_1[0][0]                    \n",
            "__________________________________________________________________________________________________\n",
            "NASNet (Functional)             (None, 4, 4, 1056)   4269716     input_1[0][0]                    \n",
            "__________________________________________________________________________________________________\n",
            "global_average_pooling2d (Globa (None, 2048)         0           xception[0][0]                   \n",
            "__________________________________________________________________________________________________\n",
            "global_average_pooling2d_1 (Glo (None, 1056)         0           NASNet[0][0]                     \n",
            "__________________________________________________________________________________________________\n",
            "concatenate_4 (Concatenate)     (None, 3104)         0           global_average_pooling2d[0][0]   \n",
            "                                                                 global_average_pooling2d_1[0][0] \n",
            "__________________________________________________________________________________________________\n",
            "dropout (Dropout)               (None, 3104)         0           concatenate_4[0][0]              \n",
            "__________________________________________________________________________________________________\n",
            "dense (Dense)                   (None, 5)            15525       dropout[0][0]                    \n",
            "==================================================================================================\n",
            "Total params: 25,146,721\n",
            "Trainable params: 25,055,455\n",
            "Non-trainable params: 91,266\n",
            "__________________________________________________________________________________________________\n"
          ]
        }
      ]
    },
    {
      "cell_type": "code",
      "metadata": {
        "id": "2inBLiofkwBK",
        "colab": {
          "base_uri": "https://localhost:8080/"
        },
        "outputId": "931622ca-60ab-4d41-d755-c4aba844446f"
      },
      "source": [
        "# Training\n",
        "history = model.fit(training_set,\n",
        "                    steps_per_epoch= 50,\n",
        "                    epochs= 10,\n",
        "                    validation_data= testing_set,\n",
        "                    validation_steps = 30)"
      ],
      "execution_count": null,
      "outputs": [
        {
          "output_type": "stream",
          "name": "stdout",
          "text": [
            "Epoch 1/10\n",
            "50/50 [==============================] - ETA: 0s - loss: 1.6504 - accuracy: 0.2502 WARNING:tensorflow:Your input ran out of data; interrupting training. Make sure that your dataset or generator can generate at least `steps_per_epoch * epochs` batches (in this case, 30 batches). You may need to use the repeat() function when building your dataset.\n",
            "50/50 [==============================] - 713s 14s/step - loss: 1.6504 - accuracy: 0.2502 - val_loss: 1.7471 - val_accuracy: 0.2927\n",
            "Epoch 2/10\n",
            "50/50 [==============================] - 589s 12s/step - loss: 1.2510 - accuracy: 0.4759\n",
            "Epoch 3/10\n",
            "50/50 [==============================] - 592s 12s/step - loss: 0.8605 - accuracy: 0.6721\n",
            "Epoch 4/10\n",
            "50/50 [==============================] - 591s 12s/step - loss: 0.5224 - accuracy: 0.8382\n",
            "Epoch 5/10\n",
            "50/50 [==============================] - 598s 12s/step - loss: 0.3202 - accuracy: 0.9141\n",
            "Epoch 6/10\n",
            "50/50 [==============================] - 610s 12s/step - loss: 0.1772 - accuracy: 0.9580\n",
            "Epoch 7/10\n",
            "50/50 [==============================] - 606s 12s/step - loss: 0.1046 - accuracy: 0.9831\n",
            "Epoch 8/10\n",
            "50/50 [==============================] - 603s 12s/step - loss: 0.0796 - accuracy: 0.9818\n",
            "Epoch 9/10\n",
            "50/50 [==============================] - 686s 14s/step - loss: 0.0490 - accuracy: 0.9937\n",
            "Epoch 10/10\n",
            "50/50 [==============================] - 659s 13s/step - loss: 0.0374 - accuracy: 0.9950\n"
          ]
        }
      ]
    },
    {
      "cell_type": "code",
      "metadata": {
        "colab": {
          "base_uri": "https://localhost:8080/"
        },
        "id": "lMCmANBkSg0f",
        "outputId": "b5ef4e42-fe8b-4543-c71f-2f18f8ce6da2"
      },
      "source": [
        "len(training_set)"
      ],
      "execution_count": null,
      "outputs": [
        {
          "output_type": "execute_result",
          "data": {
            "text/plain": [
              "52"
            ]
          },
          "metadata": {},
          "execution_count": 11
        }
      ]
    },
    {
      "cell_type": "code",
      "metadata": {
        "id": "jA7GfCUD7uif"
      },
      "source": [
        "model.save(\"/content/drive/MyDrive/data/LastModel.h5\")\n",
        "model.save_weights(\"/content/drive/MyDrive/data/LastModelWeights.h5\") "
      ],
      "execution_count": null,
      "outputs": []
    },
    {
      "cell_type": "code",
      "metadata": {
        "id": "39RZWpRYkwBL",
        "colab": {
          "base_uri": "https://localhost:8080/",
          "height": 350
        },
        "outputId": "a3b3d094-a2e5-4679-d735-c26f0865a102"
      },
      "source": [
        "\n",
        "fig, ax = plt.subplots(1,2, figsize=(10,5))\n",
        "ax = ax.ravel()\n",
        "for i, met in enumerate(['accuracy','loss']):\n",
        "    ax[i].plot(history.history[met])\n",
        "    ax[i].plot(history.history['val_' + met])\n",
        "    ax[i].set_title('Model {}'.format(met))\n",
        "    ax[i].set_xlabel('spochs')\n",
        "    ax[i].set_ylabel(met)\n",
        "    ax[i].legend(['train', 'val'])\n",
        "    \n",
        "plt.show()"
      ],
      "execution_count": null,
      "outputs": [
        {
          "output_type": "display_data",
          "data": {
            "image/png": "[encoded data removed]",
            "text/plain": [
              "<Figure size 720x360 with 2 Axes>"
            ]
          },
          "metadata": {
            "needs_background": "light"
          }
        }
      ]
    },
    {
      "cell_type": "code",
      "metadata": {
        "id": "nTaVPfc3kwBM",
        "colab": {
          "base_uri": "https://localhost:8080/"
        },
        "outputId": "2bccd30a-1b1e-4304-a17c-86b9459c9066"
      },
      "source": [
        "def get_predictions(img):\n",
        "    test_img = tf.keras.preprocessing.image.load_img(img, target_size = (128, 128, 3))\n",
        "    test_img = tf.keras.preprocessing.image.img_to_array(test_img)\n",
        "    test_img = np.expand_dims(test_img, axis = 0)\n",
        "    pred = model.predict(test_img)\n",
        "    return  np.argmax(pred)\n",
        "\n",
        "img ='/content/drive/MyDrive/data/1008_right.jpeg'\n",
        "get_predictions(img)"
      ],
      "execution_count": null,
      "outputs": [
        {
          "output_type": "execute_result",
          "data": {
            "text/plain": [
              "3"
            ]
          },
          "metadata": {},
          "execution_count": 12
        }
      ]
    }
  ]
}