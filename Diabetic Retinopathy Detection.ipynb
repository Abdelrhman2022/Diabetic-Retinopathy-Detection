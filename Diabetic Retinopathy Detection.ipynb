{
 "cells": [
  {
   "cell_type": "code",
   "execution_count": 1,
   "metadata": {
    "_uuid": "812221f6046eb6002d9835e040d8d50675c4718e"
   },
   "outputs": [],
   "source": [
    "%matplotlib inline"
   ]
  },
  {
   "cell_type": "code",
   "execution_count": 2,
   "metadata": {
    "_cell_guid": "b1076dfc-b9ad-4769-8c92-a6c4dae69d19",
    "_kg_hide-input": false,
    "_kg_hide-output": false,
    "_uuid": "8f2839f25d086af736a60e9eeb907d3b93b6e0e5"
   },
   "outputs": [],
   "source": [
    "# Imports\n",
    "import numpy as np \n",
    "import pandas as pd \n",
    "import warnings \n",
    "from glob import glob \n",
    "from skimage.io import imread\n",
    "import os\n",
    "import shutil\n",
    "import matplotlib.pyplot as plt\n",
    "from sklearn.metrics import roc_curve, auc, roc_auc_score\n",
    "from sklearn.model_selection import train_test_split\n",
    "import keras\n",
    "from keras.preprocessing.image import ImageDataGenerator\n",
    "from keras.applications.nasnet import NASNetMobile\n",
    "from keras.applications.xception import Xception\n",
    "from keras.applications import VGG16\n",
    "from keras.utils.vis_utils import plot_model\n",
    "from keras.layers import Dropout, Flatten, Dense, GlobalAveragePooling2D, Average, Input, Concatenate, GlobalMaxPooling2D,Conv2D\n",
    "from keras.models import Model\n",
    "from keras.callbacks import CSVLogger, ModelCheckpoint\n",
    "from keras.optimizers import Adam\n",
    "from livelossplot import PlotLossesKeras\n"
   ]
  },
  {
   "cell_type": "code",
   "execution_count": 3,
   "metadata": {},
   "outputs": [],
   "source": [
    "warnings.filterwarnings('ignore')\n",
    "IMAGE_SIZE = (224, 224)\n",
    "INPUT_SHAPE = (224, 224, 3)\n",
    "TRAINING_RATIO = 0.0001"
   ]
  },
  {
   "cell_type": "code",
   "execution_count": 4,
   "metadata": {},
   "outputs": [
    {
     "name": "stdout",
     "output_type": "stream",
     "text": [
      "Found 1659 images belonging to 5 classes.\n",
      "Found 550 images belonging to 5 classes.\n"
     ]
    },
    {
     "data": {
      "text/plain": [
       "{0: '0', 1: '1', 2: '2', 3: '3', 4: '4'}"
      ]
     },
     "execution_count": 4,
     "metadata": {},
     "output_type": "execute_result"
    }
   ],
   "source": [
    "train_datagen = ImageDataGenerator()\n",
    "test_datagen = ImageDataGenerator()\n",
    "\n",
    "training_set = train_datagen.flow_from_directory(\n",
    "            'data/training',\n",
    "            target_size = IMAGE_SIZE,\n",
    "            class_mode = 'categorical',\n",
    "            batch_size = 32)\n",
    "\n",
    "test_set = test_datagen.flow_from_directory(\n",
    "            'data/validation',\n",
    "            target_size = IMAGE_SIZE,\n",
    "            class_mode = 'categorical',\n",
    "            batch_size = 32)\n",
    "classes = {v: k for k, v in training_set.class_indices.items()}\n",
    "classes"
   ]
  },
  {
   "cell_type": "code",
   "execution_count": 5,
   "metadata": {},
   "outputs": [
    {
     "name": "stdout",
     "output_type": "stream",
     "text": [
      "Model: \"functional_1\"\n",
      "__________________________________________________________________________________________________\n",
      "Layer (type)                    Output Shape         Param #     Connected to                     \n",
      "==================================================================================================\n",
      "input_1 (InputLayer)            [(None, 224, 224, 3) 0                                            \n",
      "__________________________________________________________________________________________________\n",
      "xception (Functional)           (None, 7, 7, 2048)   20861480    input_1[0][0]                    \n",
      "__________________________________________________________________________________________________\n",
      "NASNet (Functional)             (None, 7, 7, 1056)   4269716     input_1[0][0]                    \n",
      "__________________________________________________________________________________________________\n",
      "global_average_pooling2d (Globa (None, 2048)         0           xception[0][0]                   \n",
      "__________________________________________________________________________________________________\n",
      "global_average_pooling2d_1 (Glo (None, 1056)         0           NASNet[0][0]                     \n",
      "__________________________________________________________________________________________________\n",
      "concatenate_4 (Concatenate)     (None, 3104)         0           global_average_pooling2d[0][0]   \n",
      "                                                                 global_average_pooling2d_1[0][0] \n",
      "__________________________________________________________________________________________________\n",
      "dropout (Dropout)               (None, 3104)         0           concatenate_4[0][0]              \n",
      "__________________________________________________________________________________________________\n",
      "dense (Dense)                   (None, 1)            3105        dropout[0][0]                    \n",
      "==================================================================================================\n",
      "Total params: 25,134,301\n",
      "Trainable params: 25,043,035\n",
      "Non-trainable params: 91,266\n",
      "__________________________________________________________________________________________________\n"
     ]
    }
   ],
   "source": [
    "#Model\n",
    "input_shape = INPUT_SHAPE\n",
    "inputs = Input(input_shape)\n",
    "input_tensor = Input(shape= (224,224,3))\n",
    "xception = Xception(include_top=False, input_shape = input_shape)(inputs)\n",
    "nas_net = NASNetMobile(input_tensor = input_tensor, include_top = False, weights = 'imagenet')(inputs)\n",
    "\n",
    "\n",
    "outputs = Concatenate(axis=-1)([GlobalAveragePooling2D()(xception), GlobalAveragePooling2D()(nas_net)])\n",
    "outputs = Dropout(0.5)(outputs)\n",
    "outputs = Dense(1, activation='sigmoid')(outputs)\n",
    "\n",
    "model = Model(inputs, outputs)\n",
    "model.compile(optimizer=Adam(lr=0.0001, decay=0.00001),\n",
    "              loss='binary_crossentropy',\n",
    "              metrics=['accuracy'])\n",
    "\n",
    "model.summary()"
   ]
  },
  {
   "cell_type": "code",
   "execution_count": 6,
   "metadata": {},
   "outputs": [
    {
     "name": "stdout",
     "output_type": "stream",
     "text": [
      "WARNING:tensorflow:From <ipython-input-6-7595b3502a46>:2: Model.fit_generator (from tensorflow.python.keras.engine.training) is deprecated and will be removed in a future version.\n",
      "Instructions for updating:\n",
      "Please use Model.fit, which supports generators.\n",
      "Epoch 1/5\n",
      "30/30 [==============================] - 987s 33s/step - loss: 0.5417 - accuracy: 0.7749 - val_loss: 0.7321 - val_accuracy: 0.4356\n",
      "Epoch 2/5\n",
      "30/30 [==============================] - 958s 32s/step - loss: 0.5132 - accuracy: 0.8000 - val_loss: 0.7963 - val_accuracy: 0.3625\n",
      "Epoch 3/5\n",
      "30/30 [==============================] - 969s 32s/step - loss: 0.5093 - accuracy: 0.8000 - val_loss: 0.7550 - val_accuracy: 0.4618\n",
      "Epoch 4/5\n",
      "30/30 [==============================] - 994s 33s/step - loss: 0.5081 - accuracy: 0.8000 - val_loss: 0.7377 - val_accuracy: 0.4280\n",
      "Epoch 5/5\n",
      "30/30 [==============================] - 891s 30s/step - loss: 0.5060 - accuracy: 0.8000 - val_loss: 0.7507 - val_accuracy: 0.3822\n"
     ]
    }
   ],
   "source": [
    "#  Training\n",
    "history = model.fit_generator(training_set,\n",
    "                              steps_per_epoch=30,\n",
    "                              epochs=10,\n",
    "                              validation_data=test_set)\n",
    "\n",
    "model.save(\"LastModel.h5\")\n",
    "model.save_weights(\"LastModelWeights.h5\") \n"
   ]
  },
  {
   "cell_type": "code",
   "execution_count": 21,
   "metadata": {},
   "outputs": [
    {
     "data": {
      "image/png": "[encoded data removed]",
      "text/plain": [
       "<Figure size 720x360 with 2 Axes>"
      ]
     },
     "metadata": {
      "needs_background": "light"
     },
     "output_type": "display_data"
    }
   ],
   "source": [
    "fig, ax = plt.subplots(1,2, figsize=(10,5))\n",
    "ax = ax.ravel()\n",
    "for i, met in enumerate(['accuracy','loss']):\n",
    "    ax[i].plot(history.history[met])\n",
    "    ax[i].plot(history.history['val_' + met])\n",
    "    ax[i].set_title('Model {}'.format(met))\n",
    "    ax[i].set_xlabel('spochs')\n",
    "    ax[i].set_ylabel(met)\n",
    "    ax[i].legend(['train', 'val'])\n",
    "    \n",
    "plt.show()"
   ]
  },
  {
   "cell_type": "code",
   "execution_count": null,
   "metadata": {},
   "outputs": [],
   "source": []
  }
 ],
 "metadata": {
  "kernelspec": {
   "display_name": "Python 3",
   "language": "python",
   "name": "python3"
  },
  "language_info": {
   "codemirror_mode": {
    "name": "ipython",
    "version": 3
   },
   "file_extension": ".py",
   "mimetype": "text/x-python",
   "name": "python",
   "nbconvert_exporter": "python",
   "pygments_lexer": "ipython3",
   "version": "3.8.5"
  }
 },
 "nbformat": 4,
 "nbformat_minor": 1
}
